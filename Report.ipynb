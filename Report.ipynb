{
 "cells": [
  {
   "cell_type": "markdown",
   "metadata": {},
   "source": [
    "# Continuous Control - Report\n",
    "\n",
    "---\n",
    "\n",
    "This is the DDPG algorithm with normal noise generation for the actions. This altered code improves the resulting score by about 40% (38 average per agent vs. 27 average per agent)"
   ]
  },
  {
   "cell_type": "markdown",
   "metadata": {},
   "source": [
    "### Model\n",
    "\n",
    "---\n",
    "\n",
    "The model for this algorithm is as follows:\n",
    "\n",
    "Actor-Critic\n",
    "\n",
    "    Actor:\n",
    "        Fully Connected - > Relu - > Fully Connected - > Relu - > Fully Connected - > Tanh\n",
    "    \n",
    "    Critic:\n",
    "        Fully Connected - > Relu - > Fully Connected - > Relu - > Fully Connected - > Feedback to Actor\n",
    "    \n",
    "    Parameters 512 for the first fully-connected layer and 256 for the second fully-connected layer"
   ]
  },
  {
   "cell_type": "markdown",
   "metadata": {},
   "source": [
    "### HyperParameters\n",
    "\n",
    "---\n",
    "\n",
    "The hyperparameters are as follows:\n",
    "\n",
    "    BUFFER_SIZE = int(1e6)  # replay buffer size\n",
    "    BATCH_SIZE = 256        # minibatch size\n",
    "    GAMMA = 0.99            # discount factor\n",
    "    TAU = 1e-3              # for soft update of target parameters\n",
    "    LR_ACTOR = 1e-4         # learning rate of the actor\n",
    "    LR_CRITIC = 1e-4        # learning rate of the critic\n",
    "    WEIGHT_DECAY = 0        # L2 weight decay\n",
    "    EPSILON = 0.0001        # Exploration Constant\n",
    "    \n",
    "    Steps per learning evolution = 20\n",
    "    Learns per learning evolution = 10"
   ]
  },
  {
   "cell_type": "markdown",
   "metadata": {},
   "source": [
    "### Terminal Results\n",
    "\n",
    "---\n",
    "\n",
    "    (drlnd) justin@JLinux:~/PycharmProjects/Udacity-ContinuousControl$ python main.py\n",
    "    Found path: /home/justin/PycharmProjects/Udacity-ContinuousControl/Reacher_Linux (20 Agent)/Reacher.x86_64\n",
    "    Mono path[0] = '/home/justin/PycharmProjects/Udacity-ContinuousControl/Reacher_Linux (20 Agent)/Reacher_Data/Managed'\n",
    "    Mono config path = '/home/justin/PycharmProjects/Udacity-ContinuousControl/Reacher_Linux (20 Agent)/Reacher_Data/MonoBleedingEdge/etc'\n",
    "    Preloaded 'ScreenSelector.so'\n",
    "    Preloaded 'libgrpc_csharp_ext.x64.so'\n",
    "    Unable to preload the following plugins:\n",
    "            ScreenSelector.so\n",
    "            libgrpc_csharp_ext.x86.so\n",
    "    Logging to /home/justin/.config/unity3d/Unity Technologies/Unity Environment/Player.log\n",
    "    INFO:unityagents:\n",
    "    'Academy' started successfully!\n",
    "    Unity Academy name: Academy\n",
    "            Number of Brains: 1\n",
    "            Number of External Brains : 1\n",
    "            Lesson number : 0\n",
    "            Reset Parameters :\n",
    "                    goal_speed -> 1.0\n",
    "                    goal_size -> 5.0\n",
    "    Unity brain name: ReacherBrain\n",
    "            Number of Visual Observations (per agent): 0\n",
    "            Vector Observation space type: continuous\n",
    "            Vector Observation space size (per agent): 33\n",
    "            Number of stacked Vector Observation: 1\n",
    "            Vector Action space type: continuous\n",
    "            Vector Action space size (per agent): 4\n",
    "            Vector Action descriptions: , , , \n",
    "    Number of agents: 20\n",
    "    Size of each action: 4\n",
    "    There are 20 agents. Each observes a state with length: 33\n",
    "    The state for the first agent looks like: [ 0.00000000e+00 -4.00000000e+00  0.00000000e+00  1.00000000e+00\n",
    "     -0.00000000e+00 -0.00000000e+00 -4.37113883e-08  0.00000000e+00\n",
    "      0.00000000e+00  0.00000000e+00  0.00000000e+00  0.00000000e+00\n",
    "      0.00000000e+00  0.00000000e+00 -1.00000000e+01  0.00000000e+00\n",
    "      1.00000000e+00 -0.00000000e+00 -0.00000000e+00 -4.37113883e-08\n",
    "      0.00000000e+00  0.00000000e+00  0.00000000e+00  0.00000000e+00\n",
    "      0.00000000e+00  0.00000000e+00  5.75471878e+00 -1.00000000e+00\n",
    "      5.55726624e+00  0.00000000e+00  1.00000000e+00  0.00000000e+00\n",
    "     -1.68164849e-01]\n",
    "    /home/justin/anaconda3/envs/drlnd/lib/python3.6/site-packages/torch/nn/functional.py:1614: UserWarning: nn.functional.tanh is deprecated. Use torch.tanh instead.\n",
    "      warnings.warn(\"nn.functional.tanh is deprecated. Use torch.tanh instead.\")\n",
    "    Episode: 1      Avg. Agent Score: 0.66  100 Episode Rolling Average Score: 0.33 Time: 0:01:07.4\n",
    "    Episode: 2      Avg. Agent Score: 1.22  100 Episode Rolling Average Score: 0.63 Time: 0:02:17.2\n",
    "    Episode: 3      Avg. Agent Score: 2.92  100 Episode Rolling Average Score: 1.20 Time: 0:03:28.8\n",
    "    Episode: 4      Avg. Agent Score: 3.90  100 Episode Rolling Average Score: 1.74 Time: 0:04:41.5\n",
    "    Episode: 5      Avg. Agent Score: 6.10  100 Episode Rolling Average Score: 2.47 Time: 0:05:55.5\n",
    "    Episode: 6      Avg. Agent Score: 8.06  100 Episode Rolling Average Score: 3.27 Time: 0:07:10.9\n",
    "    Episode: 7      Avg. Agent Score: 12.27 100 Episode Rolling Average Score: 4.39 Time: 0:08:27.9\n",
    "    Episode: 8      Avg. Agent Score: 13.75 100 Episode Rolling Average Score: 5.43 Time: 0:09:46.9\n",
    "    Episode: 9      Avg. Agent Score: 17.62 100 Episode Rolling Average Score: 6.65 Time: 0:11:08.0\n",
    "    Episode: 10     Avg. Agent Score: 25.59 100 Episode Rolling Average Score: 8.37 Time: 0:12:31.0\n",
    "    Episode: 11     Avg. Agent Score: 28.07 100 Episode Rolling Average Score: 10.01Step: 10Time: 0:13:56.1\n",
    "    Episode: 12     Avg. Agent Score: 33.61 100 Episode Rolling Average Score: 11.83        Time: 0:15:23.9\n",
    "    Episode: 13     Avg. Agent Score: 35.85 100 Episode Rolling Average Score: 13.55        Time: 0:16:54.3\n",
    "    Episode: 14     Avg. Agent Score: 37.24 100 Episode Rolling Average Score: 15.12        Time: 0:18:27.5\n",
    "    Episode: 15     Avg. Agent Score: 37.50 100 Episode Rolling Average Score: 16.52        Time: 0:20:02.8\n",
    "    Episode: 16     Avg. Agent Score: 37.67 100 Episode Rolling Average Score: 17.77        Time: 0:21:40.8\n",
    "    Episode: 17     Avg. Agent Score: 37.01 100 Episode Rolling Average Score: 18.84        Time: 0:23:21.2\n",
    "    Episode: 18     Avg. Agent Score: 37.44 100 Episode Rolling Average Score: 19.82        Time: 0:25:04.3\n",
    "    Episode: 19     Avg. Agent Score: 37.33 100 Episode Rolling Average Score: 20.69        Time: 0:26:49.3\n",
    "    Episode: 20     Avg. Agent Score: 37.24 100 Episode Rolling Average Score: 21.48        Time: 0:28:37.1\n",
    "    Episode: 21     Avg. Agent Score: 37.41 100 Episode Rolling Average Score: 22.20        Time: 0:30:28.3\n",
    "    Episode: 22     Avg. Agent Score: 37.22 100 Episode Rolling Average Score: 22.86        Time: 0:32:20.9\n",
    "    Episode: 23     Avg. Agent Score: 36.75 100 Episode Rolling Average Score: 23.44        Time: 0:34:15.6\n",
    "    Episode: 24     Avg. Agent Score: 36.75 100 Episode Rolling Average Score: 23.97        Time: 0:36:13.0\n",
    "    Episode: 25     Avg. Agent Score: 36.16 100 Episode Rolling Average Score: 24.44        Time: 0:38:12.5\n",
    "    Episode: 26     Avg. Agent Score: 36.13 100 Episode Rolling Average Score: 24.87        Time: 0:40:14.5\n",
    "    Episode: 27     Avg. Agent Score: 36.21 100 Episode Rolling Average Score: 25.27        Time: 0:42:19.0\n",
    "    Episode: 28     Avg. Agent Score: 37.07 100 Episode Rolling Average Score: 25.68        Time: 0:44:27.8\n",
    "    Episode: 29     Avg. Agent Score: 37.17 100 Episode Rolling Average Score: 26.06        Time: 0:46:32.7\n",
    "    Episode: 30     Avg. Agent Score: 37.34 100 Episode Rolling Average Score: 26.43        Time: 0:48:43.1\n",
    "    Episode: 31     Avg. Agent Score: 37.39 100 Episode Rolling Average Score: 26.77        Time: 0:50:56.3\n",
    "    Episode: 32     Avg. Agent Score: 37.50 100 Episode Rolling Average Score: 27.10        Time: 0:53:09.2\n",
    "    Episode: 33     Avg. Agent Score: 38.27 100 Episode Rolling Average Score: 27.42        Time: 0:55:21.3\n",
    "    Episode: 34     Avg. Agent Score: 37.44 100 Episode Rolling Average Score: 27.71        Time: 0:57:39.0\n",
    "    Episode: 35     Avg. Agent Score: 38.33 100 Episode Rolling Average Score: 28.01        Time: 1:00:01.8\n",
    "    Episode: 36     Avg. Agent Score: 37.46 100 Episode Rolling Average Score: 28.26        Time: 1:02:26.8\n",
    "    Episode: 37     Avg. Agent Score: 37.62 100 Episode Rolling Average Score: 28.51        Time: 1:04:47.9\n",
    "    Episode: 38     Avg. Agent Score: 38.35 100 Episode Rolling Average Score: 28.76        Time: 1:07:12.9\n",
    "    Episode: 39     Avg. Agent Score: 37.75 100 Episode Rolling Average Score: 28.98        Time: 1:09:36.7\n",
    "    Episode: 40     Avg. Agent Score: 36.41 100 Episode Rolling Average Score: 29.17        Time: 1:12:03.1\n",
    "    Episode: 41     Avg. Agent Score: 37.17 100 Episode Rolling Average Score: 29.36        Time: 1:14:34.4\n",
    "    Episode: 42     Avg. Agent Score: 36.82 100 Episode Rolling Average Score: 29.53        Time: 1:17:10.5\n",
    "    Episode: 43     Avg. Agent Score: 38.17 100 Episode Rolling Average Score: 29.73        Time: 1:19:45.8\n",
    "    Episode: 44     Avg. Agent Score: 37.76 100 Episode Rolling Average Score: 29.90        Time: 1:22:20.2\n",
    "    Episode: 45     Avg. Agent Score: 37.74 100 Episode Rolling Average Score: 30.08        Time: 1:24:55.5\n",
    "\n",
    "    Final Episode: 45       100 Episode Rolling Average Score: 30.08        Time: 1:24:55.5\n"
   ]
  },
  {
   "attachments": {
    "Figure_1.png": {
     "image/png": "[encoded data removed]"
    }
   },
   "cell_type": "markdown",
   "metadata": {},
   "source": [
    "### Figure\n",
    "\n",
    "---\n",
    "\n",
    "![Figure_1.png](attachment:Figure_1.png)"
   ]
  },
  {
   "cell_type": "markdown",
   "metadata": {},
   "source": [
    "### Future ideas\n",
    "\n",
    "Trust Region Policy Optimization (TRPO) and Truncated Natural Policy Gradient (TNPG) should achieve better performance. You may also like to write your own implementation of Proximal Policy Optimization (PPO), which has also demonstrated good performance with continuous control tasks.\n",
    "\n"
   ]
  },
  {
   "cell_type": "code",
   "execution_count": null,
   "metadata": {},
   "outputs": [],
   "source": []
  }
 ],
 "metadata": {
  "kernelspec": {
   "display_name": "drlnd",
   "language": "python",
   "name": "drlnd"
  },
  "language_info": {
   "codemirror_mode": {
    "name": "ipython",
    "version": 3
   },
   "file_extension": ".py",
   "mimetype": "text/x-python",
   "name": "python",
   "nbconvert_exporter": "python",
   "pygments_lexer": "ipython3",
   "version": "3.6.10"
  }
 },
 "nbformat": 4,
 "nbformat_minor": 4
}
